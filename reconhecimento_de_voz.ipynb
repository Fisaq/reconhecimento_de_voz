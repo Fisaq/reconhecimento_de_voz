{
 "cells": [
  {
   "cell_type": "code",
   "execution_count": 1,
   "id": "5c75186b",
   "metadata": {},
   "outputs": [],
   "source": [
    "#importing Speech Recognition library\n",
    "import speech_recognition as sr"
   ]
  },
  {
   "cell_type": "code",
   "execution_count": 2,
   "id": "95a114a7",
   "metadata": {},
   "outputs": [
    {
     "name": "stdout",
     "output_type": "stream",
     "text": [
      "Diga: 'Olá,mundo!'\n",
      "result2:\n",
      "{   'alternative': [   {   'confidence': 0.81667048,\n",
      "                           'transcript': 'tá gravando agora eu vou falar olá '\n",
      "                                         'mundo eu sou Isaac Ferreira de Paula '\n",
      "                                         'Reis e eu namoro a garota mais bela '\n",
      "                                         'deste planeta'},\n",
      "                       {   'transcript': 'tá gravando agora eu vou falar olá '\n",
      "                                         'mundo eu sou o Isaac Ferreira de '\n",
      "                                         'Paula Reis e eu namoro a garota mais '\n",
      "                                         'bela deste planeta'}],\n",
      "    'final': True}\n",
      "tá gravando agora eu vou falar olá mundo eu sou Isaac Ferreira de Paula Reis e eu namoro a garota mais bela deste planeta\n"
     ]
    }
   ],
   "source": [
    "rec = sr.Recognizer()\n",
    "\n",
    "#print(sr.Microphone().list_microphone_names())\n",
    "with sr.Microphone() as mic:\n",
    "    #cleaning noise\n",
    "    rec.adjust_for_ambient_noise(mic)\n",
    "    print(\"Diga: 'Olá,mundo!'\")\n",
    "    \n",
    "    #recondig your voice\n",
    "    audio = rec.listen(mic)\n",
    "    \n",
    "    #convert audio for text from google open source database\n",
    "    text = rec.recognize_google(audio, language = \"pt-BR\")\n",
    "    \n",
    "    print(text)"
   ]
  },
  {
   "cell_type": "code",
   "execution_count": null,
   "id": "f8bc5ad9",
   "metadata": {},
   "outputs": [],
   "source": []
  }
 ],
 "metadata": {
  "kernelspec": {
   "display_name": "Python 3 (ipykernel)",
   "language": "python",
   "name": "python3"
  },
  "language_info": {
   "codemirror_mode": {
    "name": "ipython",
    "version": 3
   },
   "file_extension": ".py",
   "mimetype": "text/x-python",
   "name": "python",
   "nbconvert_exporter": "python",
   "pygments_lexer": "ipython3",
   "version": "3.9.13"
  }
 },
 "nbformat": 4,
 "nbformat_minor": 5
}
